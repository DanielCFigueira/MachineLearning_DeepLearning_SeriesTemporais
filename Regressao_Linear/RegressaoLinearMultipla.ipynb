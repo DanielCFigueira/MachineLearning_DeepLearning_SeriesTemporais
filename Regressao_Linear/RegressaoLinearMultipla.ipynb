{
 "cells": [
  {
   "cell_type": "code",
   "execution_count": 1,
   "id": "dd83499f",
   "metadata": {},
   "outputs": [],
   "source": [
    "import pandas as pd\n",
    "import numpy as np\n",
    "import matplotlib.pyplot as plt\n",
    "from sklearn.linear_model import LinearRegression\n",
    "from sklearn.metrics import (\n",
    "    mean_absolute_error,\n",
    "    mean_absolute_percentage_error,\n",
    "    mean_squared_error, \n",
    "    r2_score\n",
    ")\n",
    "import warnings\n",
    "warnings.filterwarnings('ignore')"
   ]
  },
  {
   "cell_type": "code",
   "execution_count": 2,
   "id": "1494cdd0",
   "metadata": {},
   "outputs": [
    {
     "name": "stdout",
     "output_type": "stream",
     "text": [
      "Intercepto (theta_0): 50.88\n",
      "Coeficiente para Área (theta_1): 2.16\n",
      "Coeficiente para Quartos (theta_2): 22.79\n",
      "Coeficiente para Idade (theta_3): -2.50\n",
      "\n",
      "Erro Quadrático Médio (MSE): 8.46\n",
      "Coeficiente de Determinação (R²): 1.00\n",
      "MAPE: 0.65%\n",
      "Previsão para o imóvel de [110m², 3q, 6a]: R$342.06\n"
     ]
    }
   ],
   "source": [
    "# 1. Dados:\n",
    "X = np.array([[70, 3, 10], [80, 3, 5], [100, 4, 2], [120, 4, 8],\n",
    "            [140, 4, 12], [150, 5, 4], [180, 5, 7], [200, 5, 3]])\n",
    "\n",
    "y = np.array([250, 280, 350, 380, 410, 480, 540, 590])\n",
    "\n",
    "# 2. Inicializar e treinar o modelo:\n",
    "modelo = LinearRegression()\n",
    "modelo.fit(X, y)\n",
    "\n",
    "# 3. Extrair os parâmetros:\n",
    "intercepto = modelo.intercept_\n",
    "coeficientes = modelo.coef_\n",
    "\n",
    "print(f\"Intercepto (theta_0): {intercepto:.2f}\")\n",
    "print(f\"Coeficiente para Área (theta_1): {coeficientes[0]:.2f}\")\n",
    "print(f\"Coeficiente para Quartos (theta_2): {coeficientes[1]:.2f}\")\n",
    "print(f\"Coeficiente para Idade (theta_3): {coeficientes[2]:.2f}\")\n",
    "\n",
    "# 4. Fazer predições e avaliar:\n",
    "y_predcit = modelo.predict(X)\n",
    "mse = mean_squared_error(y, y_predcit)\n",
    "r2 = r2_score(y, y_predcit)\n",
    "mape = mean_absolute_percentage_error(y, y_predcit) * 100\n",
    "print(f\"\\nErro Quadrático Médio (MSE): {mse:.2f}\")\n",
    "print(f\"Coeficiente de Determinação (R²): {r2:.2f}\")\n",
    "print(f\"MAPE: {mape:.2f}%\")\n",
    "\n",
    "# Exemplo de previsão para um novo imóvel: 110m², 3 quartos, 6 anos:\n",
    "novo_imovel = np.array([[110, 3, 6]])\n",
    "preco_previsto = modelo.predict(novo_imovel)\n",
    "print(F\"Previsão para o imóvel de [110m², 3q, 6a]: R${preco_previsto[0]:.2f}\")"
   ]
  }
 ],
 "metadata": {
  "kernelspec": {
   "display_name": "base",
   "language": "python",
   "name": "python3"
  },
  "language_info": {
   "codemirror_mode": {
    "name": "ipython",
    "version": 3
   },
   "file_extension": ".py",
   "mimetype": "text/x-python",
   "name": "python",
   "nbconvert_exporter": "python",
   "pygments_lexer": "ipython3",
   "version": "3.12.3"
  }
 },
 "nbformat": 4,
 "nbformat_minor": 5
}
